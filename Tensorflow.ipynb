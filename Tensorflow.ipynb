{
  "nbformat": 4,
  "nbformat_minor": 0,
  "metadata": {
    "colab": {
      "provenance": [],
      "authorship_tag": "ABX9TyNka8EqAp0buN7v0IIDKBoL",
      "include_colab_link": true
    },
    "kernelspec": {
      "name": "python3",
      "display_name": "Python 3"
    },
    "language_info": {
      "name": "python"
    }
  },
  "cells": [
    {
      "cell_type": "markdown",
      "metadata": {
        "id": "view-in-github",
        "colab_type": "text"
      },
      "source": [
        "<a href=\"https://colab.research.google.com/github/Manireddy69/C-progms/blob/main/Tensorflow.ipynb\" target=\"_parent\"><img src=\"https://colab.research.google.com/assets/colab-badge.svg\" alt=\"Open In Colab\"/></a>"
      ]
    },
    {
      "cell_type": "code",
      "execution_count": 5,
      "metadata": {
        "id": "WpYYwAO41HDV"
      },
      "outputs": [],
      "source": [
        "import tensorflow as tf\n",
        "x = tf.Variable(3,name = 'x')\n",
        "y = tf.Variable(4,name = 'y')\n",
        "f = x*x*y + y + 2"
      ]
    },
    {
      "cell_type": "code",
      "source": [
        "# In TensorFlow 2.x, eager execution is enabled by default.\n",
        "# You can directly evaluate tensors without a session.\n",
        "\n",
        "# The variables x and y and the expression f are already defined in the previous cell.\n",
        "# To get the value of f, you can simply evaluate it.\n",
        "result_f = f.numpy() # .numpy() is used to extract the value from a TensorFlow tensor\n",
        "\n",
        "print(f\"The value of f is: {result_f}\")"
      ],
      "metadata": {
        "colab": {
          "base_uri": "https://localhost:8080/"
        },
        "id": "dhjLC20n5RKC",
        "outputId": "d2ba38f1-1b04-44d8-8e44-3587c7095feb"
      },
      "execution_count": 7,
      "outputs": [
        {
          "output_type": "stream",
          "name": "stdout",
          "text": [
            "The value of f is: 42\n"
          ]
        }
      ]
    },
    {
      "cell_type": "code",
      "source": [
        "import numpy as np\n",
        "from sklearn.datasets import fetch_california_housing\n",
        "housing = fetch_california_housing()\n",
        "m,n = housing.data.shape\n",
        "housing_plus_bias = np.c_[np.ones((m,1)), housing.data]\n",
        "X = tf.constant(housing_plus_bias, dtype = tf.float32, name = \"X\")\n",
        "y = tf.constant(housing.target.reshape(-1,1), dtype = tf.float32, name = \"y\")\n",
        "XT = tf.transpose(X)\n",
        "theta = tf.matmul(tf.linalg.inv(tf.matmul(XT, X)),tf.matmul(XT, y))\n",
        "theta_value = theta.numpy()\n",
        "theta_value"
      ],
      "metadata": {
        "colab": {
          "base_uri": "https://localhost:8080/"
        },
        "id": "8ByoelGZGiVN",
        "outputId": "791363ea-06ca-47f5-d983-b229381b276f"
      },
      "execution_count": 13,
      "outputs": [
        {
          "output_type": "execute_result",
          "data": {
            "text/plain": [
              "array([[-3.7167969e+01],\n",
              "       [ 4.3632507e-01],\n",
              "       [ 9.3879700e-03],\n",
              "       [-1.0710144e-01],\n",
              "       [ 6.4526367e-01],\n",
              "       [-4.1127205e-06],\n",
              "       [-3.7808418e-03],\n",
              "       [-4.2367554e-01],\n",
              "       [-4.3707275e-01]], dtype=float32)"
            ]
          },
          "metadata": {},
          "execution_count": 13
        }
      ]
    }
  ]
}